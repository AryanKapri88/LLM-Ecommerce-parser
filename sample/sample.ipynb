{
 "cells": [
  {
   "cell_type": "code",
   "execution_count": 1,
   "id": "63605119-73ba-4439-b747-c0de628a668d",
   "metadata": {},
   "outputs": [
    {
     "name": "stdout",
     "output_type": "stream",
     "text": [
      "\n",
      "    <script>window.pageData={\"mods\":{\"filter\":{\"tItemType\":\"nt_filter\",\"filterItems\":[{\"options\":[{\"value\":\"FS\",\"title\":\"Free Delivery\",\"imgUrl\":\"https://img.alicdn.com/imgextra/i4/O1CN01Tp04IC1x3IWhZt8RK_!!6000000006387-2-tps-72-72.png\",\"tabKey\":\"freeShipping\",\"order\":1},{\"value\":\"BPG\",\"title\":\"Best Price Guaranteed\",\"imgUrl\":\"https://img.alicdn.com/imgextra/i4/O1CN01pr1AG92A8sM4YKlmy_!!6000000008159-2-tps-72-72.png\",\"tabKey\":\"bpg\",\"order\":8},{\"value\":\"OS\",\"title\":\"Authentic Brands\",\"imgUrl\":\"https://img.alicdn.com/imgextra/i2/O1CN01vBOxeq1geXG9uGcUi_!!6000000004167-2-tps-48-48.png\",\"tabKey\":\"official\",\"order\":9},{\"value\":\"VBD\",\"title\":\"Daraz Verified\",\"imgUrl\":\"https://img.alicdn.com/imgextra/i1/O1CN01QrLjf51wWmP3NOEvW_!!6000000006316-2-tps-72-72.png\",\"tabKey\":\"drzVerified\",\"order\":10},{\"value\":\"COD\",\"title\":\"Cash On Delivery\",\"imgUrl\":\"https://img.alicdn.com/imgextra/i2/O1CN01sEvCqG1M7ICGGpTXv_!!6000000001387-2-tps-72-72.png\",\"order\":11}],\"isPreposed\":false,\"preposeOrder\":0,\"name\":\"service\",\"type\":\"multiple\",\"unfoldRow\":\"-1\",\"title\":\"Promotion & Services\",\"urlKey\":\"service\",\"value\":[],\"order\":10,\"hidden\":false,\"locked\":false},{\"options\":[{\"value\":\"mens-t-shirts\",\"title\":\"Men's T-Shirts\",\"url\":\"/mens-t-shirts/\",\"order\":0,\"id\":\"4195\"},{\"value\":\"mens-hoodies\",\"title\":\"Men's Hoodies & Sweatshirts\",\"url\":\"/mens-hoodies/\",\"order\":0,\"id\":\"9701\"},{\"value\":\"mens-casual-shirts\",\"title\":\"Casual Shirts\",\"url\":\"/mens-casual-shirts/\",\"order\":0,\"id\":\"4213\"},{\"value\":\"mens-socks\",\"title\":\"Men's Socks\",\"url\":\"/mens-socks/\",\"order\":0,\"id\":\"9693\"},{\"value\":\"mens-cargo-shorts\",\"title\":\"Chino\",\"url\":\"/mens-cargo-shorts/\",\"order\":0,\"id\":\"9690\"},{\"value\":\"mens-sweat-pants\",\"title\":\"Joggers & Sweats\",\"url\":\"/mens-sweat-pants/\",\"order\":0,\"id\":\"4341\"},{\"value\":\"mens-boxers\",\"title\":\"Trunks & Boxers\",\"url\":\"/mens-boxers/\",\"order\":0,\"id\":\"10002031\"},{\"value\":\"men-parkas\",\"title\":\"Men's Lightweight Jackets\",\"url\":\"/men-parkas/\",\"order\":0,\"id\":\"4277\"},{\"value\":\"mens-jeans\",\"title\":\"Men's Jeans\",\"url\":\"/mens-jeans/\",\"order\":0,\"id\":\"1789\"},{\"value\":\"mens-jackets\",\"title\":\"Men's Winter Jackets & Coats\",\"url\":\"/mens-jackets/\",\"order\":0,\"id\":\"4299\"},{\"value\":\"mens-polo-shirts\",\"title\":\"Clothing Polo T-shirts\",\"url\":\"/mens-polo-shirts/\",\"order\":0,\"id\":\"10001966\"},{\"value\":\"mens-khakis-chinos\",\"title\":\"Men's Chinos\",\"url\":\"/mens-khakis-chinos/\",\"order\":0,\"id\":\"1802\"},{\"value\":\"mens-kurtas\",\"title\":\"Kurtas\",\"url\":\"/mens-kurtas/\",\"order\":0,\"id\":\"10002980\"},{\"value\":\"mens-sweaters\",\"title\":\"Sweaters\",\"url\":\"/mens-sweaters/\",\"order\":0,\"id\":\"1785\"},{\"value\":\"mens-tank-tops\",\"title\":\"Tanks\",\"url\":\"/mens-tank-tops/\",\"order\":0,\"id\":\"9686\"},{\"value\":\"mens-tracksuits\",\"title\":\"Tracksuits\",\"url\":\"/mens-tracksuits/\",\"order\":0,\"id\":\"20000163\"},{\"value\":\"mens-briefs\",\"title\":\"Briefs\",\"url\":\"/mens-briefs/\",\"order\":0,\"id\":\"1805\"},{\"value\":\"mens-formal-shirts\",\"title\":\"Formal Shirts\",\"url\":\"/mens-formal-shirts/\",\"order\":0,\"id\":\"4214\"},{\"value\":\"bomber-jackets\",\"title\":\"Men's Bomber Jackers\",\"url\":\"/bomber-jackets/\",\"order\":0,\"id\":\"4272\"},{\"value\":\"mens-lounge-pants\",\"title\":\"Cargo\",\"url\":\"/mens-lounge-pants/\",\"order\":0,\"id\":\"4337\"},{\"value\":\"mens-innerwear-thermal\",\"title\":\"Thermal\",\"url\":\"/mens-innerwear-thermal/\",\"order\":0,\"id\":\"20000006\"},{\"value\":\"mens-unstitched-fabric\",\"title\":\"Unstitched Fabric\",\"url\":\"/mens-unstitched-fabric/\",\"order\":0,\"id\":\"10003010\"},{\"value\":\"mens-blazers\",\"title\":\"Suit Jackets\",\"url\":\"/mens-blazers/\",\"order\":0,\"id\":\"4369\"},{\"value\":\"men-rain-coats\",\"title\":\"Men' Rain Coats & Trenches\",\"url\":\"/men-rain-coats/\",\"order\":0,\"id\":\"4307\"},{\"value\":\"men-leather-jackets\",\"title\":\"Leather Jackets\",\"url\":\"/men-leather-jackets/\",\"order\":0,\"id\":\"4269\"},{\"value\":\"men-denim-jackets\",\"title\":\"Men's Denim Jackets\",\"url\":\"/men-denim-jackets/\",\"order\":0,\"id\":\"4266\"},{\"value\":\"mens-coats\",\"title\":\"Men's Jackets & Coats\",\"url\":\"/mens-coats/\",\"order\":0,\"id\":\"10002030\"}\n"
     ]
    }
   ],
   "source": [
    "# Open the file in read mode with UTF-8 encoding\n",
    "with open('new.txt', 'r', encoding='utf-8') as file:\n",
    "    # Read the contents of the file and store it in the variable\n",
    "    input_text = file.read()\n",
    "\n",
    "# Print the contents of input_text to verify\n",
    "print(input_text)\n"
   ]
  },
  {
   "cell_type": "code",
   "execution_count": 6,
   "id": "4431afd0-d4ab-49e6-898c-7e320853ef8b",
   "metadata": {},
   "outputs": [],
   "source": [
    "from langchain.llms import CTransformers\n",
    "from langchain.chains import LLMChain\n",
    "from langchain.prompts import PromptTemplate\n",
    "\n",
    "def llamamodel(input_text):\n",
    "    llm = CTransformers(model=\"llama-2-7b-chat.ggmlv3.q8_0.bin\",model_type=\"llama\",\n",
    "                config={'max_new_tokens':4096,'temperature':0.01,'context_length' : 4096})\n",
    "\n",
    "    template = \"\"\"\n",
    "        Extract meaningful attributes from an HTML block (stored in input_text variable as .txt) of an e-commerce website. return the relevant and meaningful information from the page in JSON format.\n",
    "        \n",
    "        Input HTML:\n",
    "        {input_text}\n",
    "        \n",
    "        Extracted Attributes (in JSON format):\n",
    "\n",
    "    \"\"\"\n",
    "    prompt = PromptTemplate(input_variables=[\"input_text\"], template=template)\n",
    "    response=llm(prompt.format(input_text=input_text))\n",
    "    return response"
   ]
  },
  {
   "cell_type": "code",
   "execution_count": 8,
   "id": "970d6964-aa83-4157-838f-34be6314dbbf",
   "metadata": {},
   "outputs": [],
   "source": [
    "ok = llamamodel(input_text)"
   ]
  },
  {
   "cell_type": "code",
   "execution_count": 9,
   "id": "8bef9c8c-b3c5-4992-a40b-89128de5f50f",
   "metadata": {},
   "outputs": [
    {
     "data": {
      "text/plain": [
       "' {\\n\"mods\": {\\n    \"filter\": [\\n        {\\n            \"options\": [\\n                {\\n                    \"value\": \"FS\",\\n                    \"title\": \"Free Delivery\",\\n                    \"imgUrl\": \"https://img.alicdn.com/imgextra/i4/O1CN01Tp04IC1x3IWhZt8RK_!!6000000006387-2-tps-72-72.png\",\\n                    \"tabKey\": \"freeShipping\",\\n                    \"order\": 1\\n                },\\n                {\\n                    \"value\": \"BPG\",\\n                    \"title\": \"Best Price Guaranteed\",\\n                    \"imgUrl\": \"https://img.alicdn.com/imgextra/i4/O1CN01pr1AG92A8sM4YKlmy_!!6000000008159-2-tps-72-72.png\",\\n                    \"tabKey\": \"bpg\",\\n                    \"order\": 8\\n                },\\n                {\\n                    \"value\": \"OS\",\\n                    \"title\": \"Authentic Brands\",\\n                    \"imgUrl\": \"https://img.alicdn.com/imgextra/i2/O1CN01vBOxeq1geXG9uGcUi_!!6000000004167-2-tps-72-72.png\",\\n                    \"tabKey\": \"official\",\\n                    \"order\": 9\\n                },\\n                {\\n                    \"value\": \"VBD\",\\n                    \"title\": \"Daraz Verified\",\\n                    \"imgUrl\": \"https://img.alicdn.com/imgextra/i1/O1CN01QrLjf51wWmP3NOEvW_!!6000000006316-2-tps-72-72.png\",\\n                    \"tabKey\": \"drzVerified\",\\n                    \"order\": 10\\n                },\\n                {\\n                    \"value\": \"COD\",\\n                    \"title\": \"Cash On Delivery\",\\n                    \"imgUrl\": \"https://img.alicdn.com/imgextra/i2/O1CN01sEvCqG1M7ICGGpTXv_!!6000000001387-2-tps-72-72.png\",\\n                    \"order\": 11\\n                }\\n            },\\n            \"isPreposed\": false,\\n            \"preposeOrder\": 0,\\n            \"name\": \"service\",\\n            \"type\": \"multiple\",\\n            \"unfoldRow\": \"-1\",\\n            \"title\": \"Promotion & Services\",\\n            \"urlKey\": \"service\",\\n            \"value\": [\\n                {\\n                    \"value\": \"mens-t-shirts\",\\n                    \"title\": \"Men\\'s T-Shirts\"\\n                },\\n                {\\n                    \"value\": \"mens-hoodies\",\\n                    \"title\": \"Men\\'s Hoodies & Sweatshirts\"\\n                },\\n                {\\n                    \"value\": \"mens-casual-shirts\",\\n                    \"title\": \"Casual Shirts\"\\n                },\\n                {\\n                    \"value\": \"mens-socks\",\\n                    \"title\": \"Men\\'s Socks\"\\n                },\\n                {\\n                    \"value\": \"mens-cargo-shorts\",\\n                    \"title\": \"Chino\"\\n                },\\n                {\\n                    \"value\": \"mens-sweat-pants\",\\n                    \"title\": \"Joggers & Sweats\"\\n                },\\n                {\\n                    \"value\": \"mens-parkas\",\\n                    \"title\": \"Men\\'s Lightweight Jackets\"\\n                },\\n                {\\n                    \"value\": \"mens-jeans\",\\n                    \"title\": \"Men\\'s Jeans\"\\n                },\\n                {\\n                    \"value\": \"mens-jackets\",\\n                    \"title\": \"Men\\'s Winter Jackets & Coats\"\\n                },\\n                {\\n                    \"value\": \"mens-polo-shirts\",\\n                    \"title\": \"Clothing Polo T-shirts\"\\n                },\\n                {\\n                    \"value\": \"mens-khakis-chinos\",\\n                    \"title\": \"Men\\'s Chinos\"\\n                },\\n                {\\n                    \"value\": \"mens-kurtas\",\\n                    \"title\": \"Kurtas\"\\n                },\\n                {\\n                    \"value\": \"mens-sweaters\",\\n                    \"title\": \"Sweaters\"\\n                },\\n                {\\n                    \"value\": \"mens-tank-tops\",\\n                    \"title\": \"Tanks\"\\n                },\\n                {\\n                    \"value\": \"mens-tracksuits\",\\n                    \"title\": \"Tracksuits\"\\n                },\\n                {\\n                    \"value\": \"mens-briefs\",\\n                    \"title\": \"Briefs\"\\n                },\\n                {\\n                    \"value\": \"mens-formal-shirts\",\\n                    \"title\": \"Formal Shirts\"\\n                },\\n                {\\n                    \"value\": \"bomber-jackets\",\\n                    \"title\": \"Men\\'s Bomber Jackers\"\\n                },\\n                {\\n                    \"value\": \"mens-lounge-pants\",\\n                    \"title\": \"Cargo\"\\n                },\\n                {\\n                    \"value\": \"mens-innerwear-thermal\",\\n                    \"title\": \"Thermal\"\\n                },\\n                {\\n                    \"value\": \"mens-unstitched-fabric\",\\n                    \"title\": \"Unstitched Fabric\"\\n                },\\n                {\\n                    \"value\": \"mens-blazers\",\\n                    \"title\": \"Suit Jackets\"\\n                },\\n                {\\n                    \"value\": \"men-rain-coats\",\\n                    \"title\": \"Men\\' Rain Coats & Trenches\"\\n                },\\n                {\\n                    \"value\": \"mens-leather-jackets\",\\n                    \"title\": \"Leather Jackets\"\\n                },\\n                {\\n                    \"value\": \"mens-denim-jackets\",\\n                    \"title\": \"Men\\'s Denim Jackets\"\\n                }\\n            }\\n        }\\n     }\\n}\\n\\nThe output JSON contains the following attributes:\\n\\n* mods (an array of objects, each representing a filter option)\\n\\t+ options (an array of objects, each representing a filter item)\\n\\t\\t- value (the text or image associated with the filter item)\\n\\t\\t- title (a human-readable name for the filter item)\\n\\t\\t- imgUrl (the URL of the image associated with the filter item)\\n\\t\\t- tabKey (a unique identifier for the filter item)\\n\\t\\t- order (the order in which the filter item appears)\\n\\t\\t- hidden (whether the filter item is hidden or not)\\n\\t\\t- locked (whether the filter item is locked or not)\\n* name (the name of the attribute)\\n* type (the data type of the attribute)\\n* unfoldRow (the number of rows to unfold for the attribute)\\n* title (a human-readable name for the attribute)\\n* urlKey (the URL key for the attribute)\\n* value (the value of the attribute)\\n\\nNote that some of the attributes have additional properties, such as \"hidden\" and \"locked\", which are only applicable to certain types of filters.'"
      ]
     },
     "execution_count": 9,
     "metadata": {},
     "output_type": "execute_result"
    }
   ],
   "source": [
    "ok"
   ]
  },
  {
   "cell_type": "code",
   "execution_count": null,
   "id": "ec962c87-b3fb-4c56-8a2e-43859b30cf94",
   "metadata": {},
   "outputs": [],
   "source": []
  }
 ],
 "metadata": {
  "kernelspec": {
   "display_name": "Python 3 (ipykernel)",
   "language": "python",
   "name": "python3"
  },
  "language_info": {
   "codemirror_mode": {
    "name": "ipython",
    "version": 3
   },
   "file_extension": ".py",
   "mimetype": "text/x-python",
   "name": "python",
   "nbconvert_exporter": "python",
   "pygments_lexer": "ipython3",
   "version": "3.9.7"
  }
 },
 "nbformat": 4,
 "nbformat_minor": 5
}
