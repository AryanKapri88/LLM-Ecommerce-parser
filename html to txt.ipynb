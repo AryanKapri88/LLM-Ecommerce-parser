{
 "cells": [
  {
   "cell_type": "code",
   "execution_count": 2,
   "id": "a37a9e1e",
   "metadata": {},
   "outputs": [
    {
     "name": "stdout",
     "output_type": "stream",
     "text": [
      "Converted index.html to index.txt\n"
     ]
    }
   ],
   "source": [
    "from bs4 import BeautifulSoup\n",
    "import os\n",
    "\n",
    "def html_to_txt(input_file, output_file):\n",
    "    # Open and read the HTML file\n",
    "    with open(input_file, 'r', encoding='utf-8') as file:\n",
    "        html_content = file.read()\n",
    "    \n",
    "    # Parse the HTML content\n",
    "    soup = BeautifulSoup(html_content, 'lxml')\n",
    "    \n",
    "    # Extract text from the parsed HTML\n",
    "    text = soup.get_text()\n",
    "    \n",
    "    # Write the extracted text to the output file\n",
    "    with open(output_file, 'w', encoding='utf-8') as file:\n",
    "        file.write(text)\n",
    "\n",
    "# Define the input and output files directly\n",
    "input_file = 'index.html'\n",
    "output_file = 'index.txt'\n",
    "\n",
    "# Check if the input file exists\n",
    "if not os.path.isfile(input_file):\n",
    "    print(f\"Error: {input_file} does not exist.\")\n",
    "else:\n",
    "    # Convert HTML to text\n",
    "    html_to_txt(input_file, output_file)\n",
    "    print(f\"Converted {input_file} to {output_file}\")\n"
   ]
  },
  {
   "cell_type": "code",
   "execution_count": null,
   "id": "537cc2bb",
   "metadata": {},
   "outputs": [],
   "source": []
  }
 ],
 "metadata": {
  "kernelspec": {
   "display_name": "Python 3 (ipykernel)",
   "language": "python",
   "name": "python3"
  },
  "language_info": {
   "codemirror_mode": {
    "name": "ipython",
    "version": 3
   },
   "file_extension": ".py",
   "mimetype": "text/x-python",
   "name": "python",
   "nbconvert_exporter": "python",
   "pygments_lexer": "ipython3",
   "version": "3.9.7"
  }
 },
 "nbformat": 4,
 "nbformat_minor": 5
}
